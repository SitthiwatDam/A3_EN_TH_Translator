{
  "cells": [
    {
      "cell_type": "markdown",
      "metadata": {
        "id": "wKqtzN05gwXB"
      },
      "source": [
        "# A3: Translate your own language\n",
        "Name: Sitthiwat Damrongpreechar <br>\n",
        "Student ID: st123994"
      ]
    },
    {
      "cell_type": "markdown",
      "metadata": {
        "id": "4Gkf6R4egwXC"
      },
      "source": [
        "## 0. Libraries Import"
      ]
    },
    {
      "cell_type": "code",
      "execution_count": null,
      "metadata": {
        "colab": {
          "base_uri": "https://localhost:8080/"
        },
        "id": "pc0ldMkxgxPj",
        "outputId": "a09b8ae5-7b4c-484a-8460-d79125fd6fd0"
      },
      "outputs": [],
      "source": [
        "# install the required packages\n",
        "# !pip install datasets pythainlp python-crfsuite"
      ]
    },
    {
      "cell_type": "code",
      "execution_count": 2,
      "metadata": {
        "id": "Ng9VMLB9gwXD"
      },
      "outputs": [],
      "source": [
        "# Importing libraries\n",
        "import torch\n",
        "import torch.nn as nn\n",
        "import torch.optim as optim\n",
        "import torchtext, datasets, math\n",
        "from tqdm import tqdm\n",
        "import numpy as np\n",
        "import pandas as pd"
      ]
    },
    {
      "cell_type": "code",
      "execution_count": 3,
      "metadata": {
        "colab": {
          "base_uri": "https://localhost:8080/"
        },
        "id": "FBVvy_vigwXD",
        "outputId": "4bffd8a3-219b-4b42-f3a1-6d326b189f2f"
      },
      "outputs": [
        {
          "data": {
            "text/plain": [
              "('2.1.0+cu121', '0.16.0+cpu')"
            ]
          },
          "execution_count": 3,
          "metadata": {},
          "output_type": "execute_result"
        }
      ],
      "source": [
        "# Check the versions of torch and torchtext\n",
        "torch.__version__, torchtext.__version__"
      ]
    },
    {
      "cell_type": "code",
      "execution_count": 4,
      "metadata": {
        "colab": {
          "base_uri": "https://localhost:8080/"
        },
        "id": "OVo6cE0OgwXD",
        "outputId": "90fb6731-013f-40d1-a754-35786a89e83a"
      },
      "outputs": [
        {
          "name": "stdout",
          "output_type": "stream",
          "text": [
            "cuda\n"
          ]
        }
      ],
      "source": [
        "# Setting up the device\n",
        "device=  torch.device('cuda' if torch.cuda.is_available() else 'cpu')\n",
        "print(device)"
      ]
    },
    {
      "cell_type": "code",
      "execution_count": 5,
      "metadata": {
        "id": "_VddclcUgwXD"
      },
      "outputs": [],
      "source": [
        "# Set the seed value all over the place to make this reproducible.\n",
        "SEED = 1234\n",
        "torch.manual_seed(SEED)\n",
        "torch.backends.cudnn.deterministic = True"
      ]
    },
    {
      "cell_type": "markdown",
      "metadata": {
        "id": "zwgiDF1QgwXD"
      },
      "source": [
        "## Task 1. Get Language Pair"
      ]
    },
    {
      "cell_type": "markdown",
      "metadata": {
        "id": "TqutRMD9gwXD"
      },
      "source": [
        "## 1. ETL: Loading the dataset"
      ]
    },
    {
      "cell_type": "markdown",
      "metadata": {
        "id": "y_DFOG4XgwXE"
      },
      "source": [
        "https://huggingface.co/datasets/scb_mt_enth_2020?library=true"
      ]
    },
    {
      "cell_type": "code",
      "execution_count": 6,
      "metadata": {
        "colab": {
          "base_uri": "https://localhost:8080/"
        },
        "id": "GG3dvgOvgwXE",
        "outputId": "6dc8f1cc-a9f8-4a65-d32a-04daf6ac3ab3"
      },
      "outputs": [
        {
          "name": "stderr",
          "output_type": "stream",
          "text": [
            "/usr/local/lib/python3.10/dist-packages/huggingface_hub/utils/_token.py:88: UserWarning: \n",
            "The secret `HF_TOKEN` does not exist in your Colab secrets.\n",
            "To authenticate with the Hugging Face Hub, create a token in your settings tab (https://huggingface.co/settings/tokens), set it as secret in your Google Colab and restart your session.\n",
            "You will be able to reuse this secret in all of your notebooks.\n",
            "Please note that authentication is recommended but still optional to access public models or datasets.\n",
            "  warnings.warn(\n"
          ]
        }
      ],
      "source": [
        "# load datasets from huggingface\n",
        "from datasets import load_dataset\n",
        "dataset = load_dataset('scb_mt_enth_2020', 'enth')"
      ]
    },
    {
      "cell_type": "code",
      "execution_count": 7,
      "metadata": {
        "id": "rW7-q4G9gwXE"
      },
      "outputs": [],
      "source": [
        "# Set the source and target language\n",
        "SRC_LANGUAGE = 'en'\n",
        "TRG_LANGUAGE = 'th'"
      ]
    },
    {
      "cell_type": "code",
      "execution_count": 8,
      "metadata": {
        "colab": {
          "base_uri": "https://localhost:8080/"
        },
        "id": "jAeCoZtZgwXE",
        "outputId": "c9ec9ae2-bda4-435a-9b23-10e94bf73310"
      },
      "outputs": [
        {
          "data": {
            "text/plain": [
              "DatasetDict({\n",
              "    train: Dataset({\n",
              "        features: ['translation', 'subdataset'],\n",
              "        num_rows: 801402\n",
              "    })\n",
              "    validation: Dataset({\n",
              "        features: ['translation', 'subdataset'],\n",
              "        num_rows: 100173\n",
              "    })\n",
              "    test: Dataset({\n",
              "        features: ['translation', 'subdataset'],\n",
              "        num_rows: 100177\n",
              "    })\n",
              "})"
            ]
          },
          "execution_count": 8,
          "metadata": {},
          "output_type": "execute_result"
        }
      ],
      "source": [
        "# Check the original dataset\n",
        "dataset"
      ]
    },
    {
      "cell_type": "code",
      "execution_count": 9,
      "metadata": {
        "colab": {
          "base_uri": "https://localhost:8080/",
          "height": 53
        },
        "id": "N0vCvHYMiCUY",
        "outputId": "35b99625-0c54-4a3b-ede9-c2028c6d8926"
      },
      "outputs": [
        {
          "data": {
            "application/vnd.google.colaboratory.intrinsic+json": {
              "type": "string"
            },
            "text/plain": [
              "'FAR LEFT: Indonesian National Police Chief Tito Karnavian, from left, Philippine National Police Chief Ronald Dela Rosa and Royal Malaysian Police Inspector General Khalid Abu Bakar link arms before the Trilateral Security Meeting in Pasay city, southeast of Manila, Philippines, in June 2017. [THE ASSOCIATED PRESS]'"
            ]
          },
          "execution_count": 9,
          "metadata": {},
          "output_type": "execute_result"
        }
      ],
      "source": [
        "# English sentences\n",
        "dataset['train']['translation'][0]['en']"
      ]
    },
    {
      "cell_type": "code",
      "execution_count": 10,
      "metadata": {
        "id": "GvUHG_76jfrJ"
      },
      "outputs": [],
      "source": [
        "# Randomly select 16000 examples from the training set, 2000 from the validation set, and 2000 from the test set\n",
        "from numpy.random import default_rng\n",
        "\n",
        "rng = default_rng(seed=SEED)\n",
        "\n",
        "select_idx = rng.choice(len(dataset['train']), size=16000, replace=False)\n",
        "dataset['train'] = dataset['train'].filter(lambda example, idx: idx in select_idx, with_indices=True)\n",
        "\n",
        "select_idx = rng.choice(len(dataset['test']), size=2000, replace=False)\n",
        "dataset['test'] = dataset['test'].filter(lambda example, idx: idx in select_idx, with_indices=True)\n",
        "\n",
        "select_idx = rng.choice(len(dataset['validation']), size=2000, replace=False)\n",
        "dataset['validation'] = dataset['validation'].filter(lambda example, idx: idx in select_idx, with_indices=True)"
      ]
    },
    {
      "cell_type": "code",
      "execution_count": 11,
      "metadata": {
        "colab": {
          "base_uri": "https://localhost:8080/"
        },
        "id": "XMAhbg1ykehW",
        "outputId": "d08d336e-f162-4713-fbe9-245381e1a436"
      },
      "outputs": [
        {
          "data": {
            "text/plain": [
              "DatasetDict({\n",
              "    train: Dataset({\n",
              "        features: ['translation', 'subdataset'],\n",
              "        num_rows: 16000\n",
              "    })\n",
              "    validation: Dataset({\n",
              "        features: ['translation', 'subdataset'],\n",
              "        num_rows: 2000\n",
              "    })\n",
              "    test: Dataset({\n",
              "        features: ['translation', 'subdataset'],\n",
              "        num_rows: 2000\n",
              "    })\n",
              "})"
            ]
          },
          "execution_count": 11,
          "metadata": {},
          "output_type": "execute_result"
        }
      ],
      "source": [
        "# Confirm the number of examples in the training, validation, and test sets\n",
        "dataset"
      ]
    },
    {
      "cell_type": "code",
      "execution_count": 12,
      "metadata": {
        "id": "i7Ki-vtEgwXE"
      },
      "outputs": [],
      "source": [
        "# Define the function to extract the 'en' and 'th' columns and remove the 'translation' and 'subdataset' columns\n",
        "def extract_languages(example):\n",
        "    return {'en': example['translation']['en'], 'th': example['translation']['th']}\n",
        "\n",
        "# Map the function to create 'en' and 'th' columns and remove the 'translation' column\n",
        "dataset['train'] = dataset['train'].map(extract_languages, remove_columns=['translation','subdataset'])\n",
        "dataset['validation'] = dataset['validation'].map(extract_languages, remove_columns=['translation','subdataset'])\n",
        "dataset['test'] = dataset['test'].map(extract_languages, remove_columns=['translation','subdataset'])"
      ]
    },
    {
      "cell_type": "code",
      "execution_count": 13,
      "metadata": {
        "colab": {
          "base_uri": "https://localhost:8080/"
        },
        "id": "NtxC50uXhxf4",
        "outputId": "b066625c-353d-4287-b4cb-e13c001bb5a8"
      },
      "outputs": [
        {
          "data": {
            "text/plain": [
              "DatasetDict({\n",
              "    train: Dataset({\n",
              "        features: ['en', 'th'],\n",
              "        num_rows: 16000\n",
              "    })\n",
              "    validation: Dataset({\n",
              "        features: ['en', 'th'],\n",
              "        num_rows: 2000\n",
              "    })\n",
              "    test: Dataset({\n",
              "        features: ['en', 'th'],\n",
              "        num_rows: 2000\n",
              "    })\n",
              "})"
            ]
          },
          "execution_count": 13,
          "metadata": {},
          "output_type": "execute_result"
        }
      ],
      "source": [
        "# Confirming the changes\n",
        "dataset"
      ]
    },
    {
      "cell_type": "markdown",
      "metadata": {
        "id": "mRFjpsvVgwXE"
      },
      "source": [
        "## 2. EDA - simple investigation"
      ]
    },
    {
      "cell_type": "code",
      "execution_count": 14,
      "metadata": {
        "id": "m4S9iOifgwXE"
      },
      "outputs": [],
      "source": [
        "# Split the dataset into train, validation and test\n",
        "trains = dataset['train']\n",
        "valid = dataset['validation']\n",
        "test = dataset['test']"
      ]
    },
    {
      "cell_type": "code",
      "execution_count": 15,
      "metadata": {
        "colab": {
          "base_uri": "https://localhost:8080/"
        },
        "id": "rkqDcgyugwXE",
        "outputId": "1e17d3ce-ace9-44ad-ddc9-8c0b363ce3ec"
      },
      "outputs": [
        {
          "data": {
            "text/plain": [
              "((16000, 2), (2000, 2), (2000, 2))"
            ]
          },
          "execution_count": 15,
          "metadata": {},
          "output_type": "execute_result"
        }
      ],
      "source": [
        "# check the shape of the datasets\n",
        "trains.shape, valid.shape, test.shape"
      ]
    },
    {
      "cell_type": "code",
      "execution_count": 16,
      "metadata": {
        "colab": {
          "base_uri": "https://localhost:8080/",
          "height": 0
        },
        "id": "ts0f_NyugwXE",
        "outputId": "5684286c-82ea-4992-b929-ea3e4da788c4"
      },
      "outputs": [
        {
          "data": {
            "application/vnd.google.colaboratory.intrinsic+json": {
              "type": "string"
            },
            "text/plain": [
              "'Foodnavigator-asia.com says the rice is specifically engineered for cultivation in countries such as Indonesia, the Philippines and Bangladesh to reduce vitamin A deficiencies.'"
            ]
          },
          "execution_count": 16,
          "metadata": {},
          "output_type": "execute_result"
        }
      ],
      "source": [
        "trains[SRC_LANGUAGE][0]"
      ]
    },
    {
      "cell_type": "code",
      "execution_count": 17,
      "metadata": {
        "colab": {
          "base_uri": "https://localhost:8080/",
          "height": 0
        },
        "id": "ZtnripUngwXE",
        "outputId": "597ecc41-3edc-4ccd-be36-f80ea9b42a18"
      },
      "outputs": [
        {
          "data": {
            "application/vnd.google.colaboratory.intrinsic+json": {
              "type": "string"
            },
            "text/plain": [
              "'Foodnavigator-asia.com ระบุว่า ข้าวพันธุ์นี้ได้รับการออกแบบมาสําหรับการเพาะปลูกในประเทศต่าง ๆ อย่างอินโดนีเซีย ฟิลิปปินส์ และบังกลาเทศโดยเฉพาะ เพื่อลดภาวะการขาดวิตามินเอ'"
            ]
          },
          "execution_count": 17,
          "metadata": {},
          "output_type": "execute_result"
        }
      ],
      "source": [
        "trains[TRG_LANGUAGE][0]"
      ]
    },
    {
      "cell_type": "markdown",
      "metadata": {
        "id": "1ob1Hky6gwXE"
      },
      "source": [
        "## 3. Preprocessing"
      ]
    },
    {
      "cell_type": "markdown",
      "metadata": {
        "id": "NjuIg-DKgwXE"
      },
      "source": [
        "https://pythainlp.github.io/docs/2.0/notes/getting_started.html"
      ]
    },
    {
      "cell_type": "markdown",
      "metadata": {
        "id": "P3iNB5_OgwXE"
      },
      "source": [
        "### 3.1 Tokenizing"
      ]
    },
    {
      "cell_type": "code",
      "execution_count": 18,
      "metadata": {
        "id": "A-agNJLlgwXE"
      },
      "outputs": [],
      "source": [
        "# !pip install pythainlp\n",
        "# !pip install python-crfsuite"
      ]
    },
    {
      "cell_type": "code",
      "execution_count": 19,
      "metadata": {
        "colab": {
          "base_uri": "https://localhost:8080/",
          "height": 36
        },
        "id": "O8dx6AlSgwXF",
        "outputId": "8dd57955-e622-4a6c-b599-7b3ceaee0d22"
      },
      "outputs": [
        {
          "data": {
            "application/vnd.google.colaboratory.intrinsic+json": {
              "type": "string"
            },
            "text/plain": [
              "'4.0.2'"
            ]
          },
          "execution_count": 19,
          "metadata": {},
          "output_type": "execute_result"
        }
      ],
      "source": [
        "# Importing libraries\n",
        "import pythainlp\n",
        "pythainlp.__version__"
      ]
    },
    {
      "cell_type": "code",
      "execution_count": 20,
      "metadata": {
        "id": "spE20ou6gwXF"
      },
      "outputs": [],
      "source": [
        "# Place-holders\n",
        "token_transform = {}\n",
        "vocab_transform = {}"
      ]
    },
    {
      "cell_type": "code",
      "execution_count": 22,
      "metadata": {
        "colab": {
          "base_uri": "https://localhost:8080/"
        },
        "id": "_76f86vygwXF",
        "outputId": "e4ecfbb8-4d38-4619-c5f7-e385bb7d1d50"
      },
      "outputs": [
        {
          "name": "stdout",
          "output_type": "stream",
          "text": [
            "word_tokenize: ['สวัสดี', 'ครับ', ' ', 'ผม', 'ชื่อ', 'สิทธิ', 'วัฒน์', 'ครับ']\n"
          ]
        }
      ],
      "source": [
        "# Tokenization function for Thai language\n",
        "from pythainlp.tokenize import Tokenizer\n",
        "tokenizer_th = Tokenizer()\n",
        "# Test the tokenization function\n",
        "text_th = 'สวัสดีครับ ผมชื่อสิทธิวัฒน์ครับ'\n",
        "print(\"word_tokenize:\", tokenizer_th.word_tokenize(text_th))"
      ]
    },
    {
      "cell_type": "code",
      "execution_count": 23,
      "metadata": {
        "colab": {
          "base_uri": "https://localhost:8080/"
        },
        "id": "gicH416hgwXF",
        "outputId": "3cb17746-41ae-47e4-8c08-e291ec87b82a"
      },
      "outputs": [
        {
          "name": "stdout",
          "output_type": "stream",
          "text": [
            "word_tokenize: ['hello', ',', 'how', 'are', 'you', '?']\n"
          ]
        }
      ],
      "source": [
        "# Tokenization function for English language\n",
        "from torchtext.data.utils import get_tokenizer\n",
        "tokenizer_en = get_tokenizer(\"basic_english\")\n",
        "# Test the tokenization function\n",
        "text_en = 'Hello, how are you?'\n",
        "print(\"word_tokenize:\", tokenizer_en(text_en))"
      ]
    },
    {
      "cell_type": "code",
      "execution_count": 24,
      "metadata": {
        "id": "15Ns5OawgwXF"
      },
      "outputs": [],
      "source": [
        "# Add the tokenization function to the token_transform dictionary\n",
        "token_transform[TRG_LANGUAGE] = tokenizer_th\n",
        "token_transform[SRC_LANGUAGE] = tokenizer_en"
      ]
    },
    {
      "cell_type": "code",
      "execution_count": 25,
      "metadata": {
        "colab": {
          "base_uri": "https://localhost:8080/"
        },
        "id": "sycr93bWgwXF",
        "outputId": "04ca4437-f933-438d-da9d-a2e26dee406d"
      },
      "outputs": [
        {
          "data": {
            "text/plain": [
              "{'th': <pythainlp.tokenize.core.Tokenizer at 0x7d74cbd5a6e0>,\n",
              " 'en': <function torchtext.data.utils._basic_english_normalize(line)>}"
            ]
          },
          "execution_count": 25,
          "metadata": {},
          "output_type": "execute_result"
        }
      ],
      "source": [
        "token_transform"
      ]
    },
    {
      "cell_type": "code",
      "execution_count": 26,
      "metadata": {
        "id": "HjNXqDybgwXF"
      },
      "outputs": [],
      "source": [
        "# helper function to yield list of tokens\n",
        "# here data can be `train` or `val` or `test`\n",
        "def yield_tokens(data, language):\n",
        "    if language == SRC_LANGUAGE:\n",
        "        for sample in data:\n",
        "            #lowercase the english sentence\n",
        "            yield token_transform[language](sample[language].lower())\n",
        "    else: # for thai language\n",
        "        for sample in data:\n",
        "            yield token_transform[language].word_tokenize(sample[language].lower())"
      ]
    },
    {
      "cell_type": "code",
      "execution_count": 27,
      "metadata": {
        "id": "5NSvzZQMgwXG"
      },
      "outputs": [],
      "source": [
        "# Define special symbols and indices\n",
        "UNK_IDX, PAD_IDX, SOS_IDX, EOS_IDX = 0, 1, 2, 3\n",
        "# Make sure the tokens are in order of their indices to properly insert them in vocab\n",
        "special_symbols = ['<unk>', '<pad>', '<sos>', '<eos>']"
      ]
    },
    {
      "cell_type": "markdown",
      "metadata": {
        "id": "8Ky1bEt6gwXG"
      },
      "source": [
        "### 3.2 Text to integers (Numericalization)"
      ]
    },
    {
      "cell_type": "code",
      "execution_count": 28,
      "metadata": {
        "id": "7NU5ktuMgwXG"
      },
      "outputs": [],
      "source": [
        "from torchtext.vocab import build_vocab_from_iterator\n",
        "# build vocabulary for source and target languages\n",
        "for ln in [SRC_LANGUAGE, TRG_LANGUAGE]:\n",
        "    # Create torchtext's Vocab object\n",
        "    vocab_transform[ln] = build_vocab_from_iterator(yield_tokens(trains, ln),\n",
        "                                                    min_freq=2, #if not, then everything will be treated as UNK\n",
        "                                                    specials = special_symbols,\n",
        "                                                    special_first = True) # indicates whether to insert symbols at the beginning or end of the word_list\n",
        "    # Set UNK_IDX as the default index. This index is returned when the token is not found.\n",
        "    # If not set, it throws RuntimeError when the queried token is not found in the Vocabulary.\n",
        "for ln in [SRC_LANGUAGE, TRG_LANGUAGE]:\n",
        "    vocab_transform[ln].set_default_index(UNK_IDX)"
      ]
    },
    {
      "cell_type": "code",
      "execution_count": 29,
      "metadata": {
        "colab": {
          "base_uri": "https://localhost:8080/"
        },
        "id": "plZMsWYDgwXG",
        "outputId": "ec5edad8-6002-4756-dc05-a46f325e1262"
      },
      "outputs": [
        {
          "data": {
            "text/plain": [
              "[15, 261, 239, 1610, 0]"
            ]
          },
          "execution_count": 29,
          "metadata": {},
          "output_type": "execute_result"
        }
      ],
      "source": [
        "#see some example\n",
        "vocab_transform[SRC_LANGUAGE](['i', 'love','machine','learning','bruh'])"
      ]
    },
    {
      "cell_type": "code",
      "execution_count": 30,
      "metadata": {
        "colab": {
          "base_uri": "https://localhost:8080/"
        },
        "id": "b-yV-1gLgwXG",
        "outputId": "37e67a55-a1a0-4366-87e1-064ec6ecb171"
      },
      "outputs": [
        {
          "data": {
            "text/plain": [
              "[364, 4896, 1592, 393, 0]"
            ]
          },
          "execution_count": 30,
          "metadata": {},
          "output_type": "execute_result"
        }
      ],
      "source": [
        "vocab_transform[TRG_LANGUAGE]([\"ผม\",\"หิว\",\"ข้าว\",\"ครับ\",\"แหวะ\"])"
      ]
    },
    {
      "cell_type": "code",
      "execution_count": 31,
      "metadata": {
        "colab": {
          "base_uri": "https://localhost:8080/",
          "height": 36
        },
        "id": "gPHcoPuAgwXG",
        "outputId": "8c594ec4-3207-4a29-b5b9-e31b01c0044f"
      },
      "outputs": [
        {
          "data": {
            "application/vnd.google.colaboratory.intrinsic+json": {
              "type": "string"
            },
            "text/plain": [
              "'colorful'"
            ]
          },
          "execution_count": 31,
          "metadata": {},
          "output_type": "execute_result"
        }
      ],
      "source": [
        "# Example of vocabulary in English\n",
        "mapping_en = vocab_transform[SRC_LANGUAGE].get_itos()\n",
        "mapping_en[1816]"
      ]
    },
    {
      "cell_type": "code",
      "execution_count": 32,
      "metadata": {
        "colab": {
          "base_uri": "https://localhost:8080/",
          "height": 36
        },
        "id": "CDXC4BeVgwXG",
        "outputId": "fbf83695-27d3-492f-95e4-d5c07b7cb1e1"
      },
      "outputs": [
        {
          "data": {
            "application/vnd.google.colaboratory.intrinsic+json": {
              "type": "string"
            },
            "text/plain": [
              "'เข้าด้วยกัน'"
            ]
          },
          "execution_count": 32,
          "metadata": {},
          "output_type": "execute_result"
        }
      ],
      "source": [
        "# Example of vocabulary in Thai\n",
        "mapping_th = vocab_transform[TRG_LANGUAGE].get_itos()\n",
        "mapping_th[1816]"
      ]
    },
    {
      "cell_type": "code",
      "execution_count": 33,
      "metadata": {
        "colab": {
          "base_uri": "https://localhost:8080/"
        },
        "id": "DGu4G5tugwXG",
        "outputId": "00427468-6e03-4c22-fc79-9687518aa53f"
      },
      "outputs": [
        {
          "data": {
            "text/plain": [
              "('<unk>', '<pad>', '<sos>', '<eos>')"
            ]
          },
          "execution_count": 33,
          "metadata": {},
          "output_type": "execute_result"
        }
      ],
      "source": [
        "#let's try unknown vocab and special symbols\n",
        "mapping_en[0], mapping_en[1], mapping_en[2], mapping_en[3]\n",
        "#they will all map to <unk> which has 0 as integer"
      ]
    },
    {
      "cell_type": "code",
      "execution_count": 34,
      "metadata": {
        "colab": {
          "base_uri": "https://localhost:8080/"
        },
        "id": "3wI06GktgwXG",
        "outputId": "ee13f316-46ea-4833-e9c7-6d5377613240"
      },
      "outputs": [
        {
          "data": {
            "text/plain": [
              "(12605, 12166)"
            ]
          },
          "execution_count": 34,
          "metadata": {},
          "output_type": "execute_result"
        }
      ],
      "source": [
        "#check unique vocabularies\n",
        "len(mapping_en), len(mapping_th)"
      ]
    },
    {
      "cell_type": "markdown",
      "metadata": {
        "id": "mSQoltyUgwXG"
      },
      "source": [
        "## 4. Preparing the dataloader"
      ]
    },
    {
      "cell_type": "code",
      "execution_count": 35,
      "metadata": {
        "id": "O97DrjN4gwXG"
      },
      "outputs": [],
      "source": [
        "# collate_function\n",
        "from torch.utils.data import DataLoader\n",
        "from torch.nn.utils.rnn import pad_sequence\n",
        "\n",
        "# helper function to club together sequential operations\n",
        "def sequential_transforms(*transforms):\n",
        "    def func(txt_input):\n",
        "        for transform in transforms:\n",
        "            try: #try to tokenize the sentence if it is english\n",
        "                txt_input = transform(txt_input)\n",
        "            except TypeError: #if it is thai, then just word_tokenize\n",
        "                txt_input = transform.word_tokenize(txt_input)\n",
        "        return txt_input\n",
        "    return func\n",
        "\n",
        "# function to add BOS/EOS and create tensor for input sequence indices\n",
        "def tensor_transform(token_ids):\n",
        "    return torch.cat((torch.tensor([SOS_IDX]),\n",
        "                      torch.tensor(token_ids),\n",
        "                      torch.tensor([EOS_IDX])))\n",
        "\n",
        "# src and tgt language text transforms to convert raw strings into tensors indices\n",
        "text_transform = {}\n",
        "for ln in [SRC_LANGUAGE, TRG_LANGUAGE]:\n",
        "    text_transform[ln] = sequential_transforms(token_transform[ln], #Tokenization\n",
        "                                               vocab_transform[ln], #Numericalization\n",
        "                                               tensor_transform) # Add BOS/EOS and create tensor\n",
        "\n",
        "# Maximum length for sequence truncation\n",
        "MAX_LENGTH = 50\n",
        "\n",
        "# Modify the collate_batch function to truncate sequences\n",
        "def collate_batch(batch):\n",
        "    src_batch, src_len_batch, trg_batch = [], [], []\n",
        "    for sample in batch:\n",
        "        # Process source and target texts\n",
        "        processed_src_text = text_transform[SRC_LANGUAGE](sample[SRC_LANGUAGE].rstrip(\"\\n\"))\n",
        "        processed_trg_text = text_transform[TRG_LANGUAGE](sample[TRG_LANGUAGE].rstrip(\"\\n\"))\n",
        "\n",
        "        # Truncate sequences\n",
        "        processed_src_text = processed_src_text[:MAX_LENGTH]\n",
        "        processed_trg_text = processed_trg_text[:MAX_LENGTH]\n",
        "\n",
        "        src_batch.append(processed_src_text)\n",
        "        trg_batch.append(processed_trg_text)\n",
        "        src_len_batch.append(processed_src_text.size(0))\n",
        "\n",
        "    src_batch = pad_sequence(src_batch, padding_value=PAD_IDX, batch_first=True)\n",
        "    trg_batch = pad_sequence(trg_batch, padding_value=PAD_IDX, batch_first=True)\n",
        "    return src_batch, torch.tensor(src_len_batch, dtype=torch.int64), trg_batch\n"
      ]
    },
    {
      "cell_type": "code",
      "execution_count": 36,
      "metadata": {
        "id": "vCt_JYhJgwXG"
      },
      "outputs": [],
      "source": [
        "# DataLoaders\n",
        "batch_size = 64\n",
        "\n",
        "train_loader = DataLoader(trains, batch_size=batch_size, shuffle=True, collate_fn=collate_batch)\n",
        "valid_loader = DataLoader(valid, batch_size=batch_size, shuffle=False, collate_fn=collate_batch)\n",
        "test_loader = DataLoader(test, batch_size=batch_size, shuffle=False, collate_fn=collate_batch)"
      ]
    },
    {
      "cell_type": "code",
      "execution_count": 37,
      "metadata": {
        "colab": {
          "base_uri": "https://localhost:8080/"
        },
        "id": "fLxeDq0AgwXH",
        "outputId": "0e16e137-5358-47a9-d508-bd8f0d5b86b4"
      },
      "outputs": [
        {
          "name": "stdout",
          "output_type": "stream",
          "text": [
            "English: torch.Size([64, 50]) Thai: torch.Size([64, 50])\n"
          ]
        }
      ],
      "source": [
        "# Check the shape of the data\n",
        "for en, _, th in train_loader:\n",
        "    print(\"English:\", en.shape, \"Thai:\", th.shape)\n",
        "    break"
      ]
    },
    {
      "cell_type": "markdown",
      "metadata": {
        "id": "-3Z1-W4bgwXH"
      },
      "source": [
        "## 5. Design the Model"
      ]
    },
    {
      "cell_type": "markdown",
      "metadata": {
        "id": "C9EQdHTqgwXH"
      },
      "source": [
        "### 5.1 Encoder Layer"
      ]
    },
    {
      "cell_type": "code",
      "execution_count": 39,
      "metadata": {
        "id": "3rR6il2tgwXH"
      },
      "outputs": [],
      "source": [
        "class EncoderLayer(nn.Module):\n",
        "    def __init__(self, attention, hid_dim, n_heads, pf_dim, dropout, device):\n",
        "        super().__init__()\n",
        "        self.self_attn_layer_norm = nn.LayerNorm(hid_dim)\n",
        "        self.ff_layer_norm = nn.LayerNorm(hid_dim)\n",
        "        self.self_attention = MultiheadAttentionLayer(attention, hid_dim, n_heads, dropout, device)\n",
        "        self.feedforward = PositionwiseFeedforwardLayer(hid_dim, pf_dim, dropout)\n",
        "        self.dropout = nn.Dropout(dropout)\n",
        "\n",
        "    def forward(self, src, src_mask):\n",
        "        #src = [batch size, src len, hid dim]\n",
        "        #src_mask = [batch size, 1, 1,src len] #if the token is pad, then it is 0, else 1\n",
        "        _src, _ = self.self_attention(src, src, src, src_mask) #Q, K, V into the multiheadattentionlayer\n",
        "        src = self.self_attn_layer_norm(src + self.dropout(_src))\n",
        "        #src = [batch size, src len, hid dim]\n",
        "\n",
        "        _src = self.feedforward(src)\n",
        "        src = self.ff_layer_norm(src + self.dropout(_src))\n",
        "        #src = [batch size, src len, hid dim]\n",
        "\n",
        "        return src"
      ]
    },
    {
      "cell_type": "markdown",
      "metadata": {
        "id": "cWqsmwl3gwXH"
      },
      "source": [
        "### 5.2 Encoder"
      ]
    },
    {
      "cell_type": "code",
      "execution_count": 40,
      "metadata": {
        "id": "qLezpCvPgwXH"
      },
      "outputs": [],
      "source": [
        "class Encoder(nn.Module):\n",
        "    def __init__(self, attention, input_dim, hid_dim, n_layers, n_heads, pf_dim, dropout, device, max_length = 100):\n",
        "        super().__init__()\n",
        "        self.device = device\n",
        "        self.tok_embedding = nn.Embedding(input_dim, hid_dim)\n",
        "        self.pos_embedding = nn.Embedding(max_length, hid_dim)\n",
        "        self.layers = nn.ModuleList([EncoderLayer(attention, hid_dim, n_heads, pf_dim, dropout, device) for _ in range(n_layers)])\n",
        "        self.dropout = nn.Dropout(dropout)\n",
        "        self.scale = torch.sqrt(torch.FloatTensor([hid_dim])).to(self.device)\n",
        "\n",
        "    def forward(self, src, src_mask):\n",
        "        #src = [batch size, src len]\n",
        "        #src_mask = [batch size, 1, 1, src len]\n",
        "\n",
        "        batch_size = src.shape[0]\n",
        "        src_len  = src.shape[1]\n",
        "\n",
        "        pos = torch.arange(0, src_len).unsqueeze(0).repeat(batch_size, 1).to(self.device)\n",
        "        #pos = [batch size, src len]\n",
        "\n",
        "        src = self.dropout((self.tok_embedding(src) * self.scale) + self.pos_embedding(pos))\n",
        "        #src = [batch size, src len, hid dim]\n",
        "\n",
        "        for layer in self.layers:\n",
        "            src = layer(src, src_mask)\n",
        "            #src = [batch size, src len, hid dim]\n",
        "\n",
        "        return src"
      ]
    },
    {
      "cell_type": "markdown",
      "metadata": {
        "id": "a1Zu8bIBgwXH"
      },
      "source": [
        "### 5.3 Multi Head Attention Layer"
      ]
    },
    {
      "cell_type": "markdown",
      "metadata": {
        "id": "S82OH4jhyvqH"
      },
      "source": [
        "#### Additive/Multiplicative Attention Mechanism classes"
      ]
    },
    {
      "cell_type": "code",
      "execution_count": 41,
      "metadata": {
        "id": "f3XHSqpVyskj"
      },
      "outputs": [],
      "source": [
        "class Additive(nn.Module):\n",
        "    def __init__(self, head_dim):\n",
        "        super().__init__()\n",
        "        self.W1 = nn.Linear(head_dim, head_dim)\n",
        "        self.W2 = nn.Linear(head_dim, head_dim)\n",
        "        self.V = nn.Linear(head_dim, 1)\n",
        "    def forward(self, Q, K):\n",
        "        Q = Q.unsqueeze(3)\n",
        "        K = K.unsqueeze(2)\n",
        "        features = torch.tanh(self.W1(Q) + self.W2(K))\n",
        "        energy = self.V(features).squeeze(-1)\n",
        "\n",
        "        return energy\n",
        "\n",
        "class Multiplicative(nn.Module):\n",
        "    def __init__(self, head_dim):\n",
        "        super().__init__()\n",
        "        self.W1 = nn.Linear(head_dim, head_dim)\n",
        "    def forward(self, Q, K):\n",
        "        energy = torch.matmul(self.W1(Q), K.permute(0, 1, 3, 2))\n",
        "\n",
        "        return energy\n",
        "\n",
        "class General(nn.Module):\n",
        "    def __init__(self):\n",
        "        super().__init__()\n",
        "\n",
        "    def forward(self, Q, K):\n",
        "        energy = torch.matmul(Q, K.permute(0, 1, 3, 2))\n",
        "\n",
        "        return energy"
      ]
    },
    {
      "cell_type": "code",
      "execution_count": 43,
      "metadata": {
        "id": "n6n_ca0404Pd"
      },
      "outputs": [],
      "source": [
        "class MultiheadAttentionLayer(nn.Module):\n",
        "    def __init__(self, attention, hid_dim, n_heads, dropout, device):\n",
        "        super().__init__()\n",
        "        assert hid_dim % n_heads == 0\n",
        "        self.device = device\n",
        "        self.hid_dim = hid_dim\n",
        "        self.n_heads = n_heads\n",
        "        self.head_dim = hid_dim // n_heads\n",
        "        self.fc_q = nn.Linear(hid_dim, hid_dim)\n",
        "        self.fc_k = nn.Linear(hid_dim, hid_dim)\n",
        "        self.fc_v = nn.Linear(hid_dim, hid_dim)\n",
        "        self.fc_o = nn.Linear(hid_dim, hid_dim)\n",
        "        self.dropout = nn.Dropout(dropout)\n",
        "        self.scale = torch.sqrt(torch.FloatTensor([self.head_dim])).to(device)\n",
        "\n",
        "\n",
        "        self.attention = attention\n",
        "        if attention == \"general\":\n",
        "          self.general = General()\n",
        "        elif attention == \"multiplicative\":\n",
        "          self.multi = Multiplicative(self.head_dim)\n",
        "        elif attention == \"additive\":\n",
        "          self.addi = Additive(self.head_dim)\n",
        "\n",
        "\n",
        "    def forward(self, query, key, value, mask = None):\n",
        "        #src, src, src, src_mask\n",
        "        #query = [batch size, query len, hid dim]\n",
        "        #key = [batch size, key len, hid dim]\n",
        "        #value = [batch size, value len, hid dim]\n",
        "        batch_size = query.shape[0]\n",
        "\n",
        "        Q = self.fc_q(query)\n",
        "        K = self.fc_k(key)\n",
        "        V = self.fc_v(value)\n",
        "        #Q=K=V = [batch size, src len, hid dim]\n",
        "\n",
        "        Q = Q.view(batch_size, -1, self.n_heads, self.head_dim).permute(0, 2, 1, 3)\n",
        "        #Q = [batch size, n heads, query len, head dim]\n",
        "        K = K.view(batch_size, -1, self.n_heads, self.head_dim).permute(0, 2, 1, 3)\n",
        "        #K = [batch size, n heads, key len, head dim]\n",
        "        V = V.view(batch_size, -1, self.n_heads, self.head_dim).permute(0, 2, 1, 3)\n",
        "        #V = [batch size, n heads, value len, head dim]\n",
        "\n",
        "        #Attention mechanism\n",
        "        if self.attention == \"multiplicative\":\n",
        "            energy = self.multi(Q, K)\n",
        "        elif self.attention == \"additive\":\n",
        "            energy = self.addi(Q, K)\n",
        "        elif self.attention == \"general\":\n",
        "            energy = self.general(Q, K)\n",
        "        else:\n",
        "            raise ValueError(\"What is that attention mechanism!\")\n",
        "        # Q = [batch size, n heads, query len, head dim] @ K = [batch size, n heads, head dim, key len] = [batch size, n heads, query len, key len]\n",
        "        #energy = [batch size, n heads, query len, key len]\n",
        "\n",
        "        #for the masking attention to padding to 0\n",
        "        if mask is not None:\n",
        "            energy = energy.masked_fill(mask == 0, -1e10)\n",
        "\n",
        "        attentions = torch.softmax(energy, dim=-1)\n",
        "        #attentions = [batch size, n heads, query len, key len]\n",
        "\n",
        "        x = torch.matmul(self.dropout(attentions), V)\n",
        "        #[batch size, n heads, query len, key len] @ [batch size, n heads, value len, head dim] = [batch size, n heads, query len, head dim]\n",
        "        #x= [batch size, n heads, query len, head dim]\n",
        "\n",
        "        x.permute(0, 2, 1, 3).contiguous() #we can perform .view\n",
        "        #x = [batch size, query len, n heads, head dim]\n",
        "\n",
        "        x = x.view(batch_size, -1, self.hid_dim)\n",
        "        #x = [batch size, query len, hid dim]\n",
        "\n",
        "        x = self.fc_o(x)\n",
        "        #x = [batch size, query len, hid dim]\n",
        "\n",
        "        return x, attentions"
      ]
    },
    {
      "cell_type": "markdown",
      "metadata": {
        "id": "ReL3gCRjgwXH"
      },
      "source": [
        "### 5.4 Position-wise Feedforward Layer"
      ]
    },
    {
      "cell_type": "code",
      "execution_count": 44,
      "metadata": {
        "id": "ht2lWSiegwXI"
      },
      "outputs": [],
      "source": [
        "class PositionwiseFeedforwardLayer(nn.Module):\n",
        "    def __init__(self, hid_dim, pf_dim, dropout):\n",
        "        super().__init__()\n",
        "        self.fc1 = nn.Linear(hid_dim, pf_dim)\n",
        "        self.fc2 = nn.Linear(pf_dim, hid_dim)\n",
        "        self.dropout = nn.Dropout(dropout)\n",
        "\n",
        "    def forward(self, x):\n",
        "        #x = [batch size, src len, hid dim]\n",
        "        x = self.dropout(torch.relu(self.fc1(x)))\n",
        "        #x = [batch size, seq len, pf dim]\n",
        "        x = self.fc2(x)\n",
        "        #x = [batch size, seq len, hid dim]\n",
        "        return x"
      ]
    },
    {
      "cell_type": "markdown",
      "metadata": {
        "id": "rRIODMwOgwXI"
      },
      "source": [
        "### 5.5 Decoder Layer"
      ]
    },
    {
      "cell_type": "code",
      "execution_count": 45,
      "metadata": {
        "id": "HBDCbURxgwXI"
      },
      "outputs": [],
      "source": [
        "class DecoderLayer(nn.Module):\n",
        "    def __init__(self, attention ,hid_dim, n_heads, pf_dim, dropout, device):\n",
        "        super().__init__()\n",
        "        self.self_attn_layer_norm = nn.LayerNorm(hid_dim)\n",
        "        self.enc_attn_layer_norm = nn.LayerNorm(hid_dim)\n",
        "        self.ff_latyer_norm = nn.LayerNorm(hid_dim)\n",
        "        self.self_attention = MultiheadAttentionLayer(attention, hid_dim, n_heads, dropout, device)\n",
        "        self.encoder_attention = MultiheadAttentionLayer(attention, hid_dim, n_heads, dropout, device)\n",
        "        self.feedforward = PositionwiseFeedforwardLayer(hid_dim, pf_dim, dropout)\n",
        "        self.dropout = nn.Dropout(dropout)\n",
        "\n",
        "    def forward(self, trg, enc_src, trg_mask, src_mask):\n",
        "        #trg = [batch size, trg len, hid dim]\n",
        "        #enc_src = [batch size, src len, hid dim]\n",
        "        #trg_mask = [batch size, 1, trg len, trg len]\n",
        "        #src_mask = [batch size, 1, 1, src len]\n",
        "        _trg, _ = self.self_attention(trg, trg, trg, trg_mask)\n",
        "        trg = self.self_attn_layer_norm(trg + self.dropout(_trg))\n",
        "        #trg = [batch size, trg len, hid dim]\n",
        "\n",
        "        _trg, attentions = self.encoder_attention(trg, enc_src, enc_src, src_mask)\n",
        "        trg = self.enc_attn_layer_norm(trg + self.dropout(_trg))\n",
        "        #trg = [batch size, trg len, hid dim]\n",
        "        #attentions = [batch size, n heads, trg len, src len]\n",
        "\n",
        "        _trg = self.feedforward(trg)\n",
        "        trg = self.ff_latyer_norm(trg + self.dropout(_trg))\n",
        "        #trg = [batch size, trg len, hid dim]\n",
        "\n",
        "        return trg, attentions"
      ]
    },
    {
      "cell_type": "markdown",
      "metadata": {
        "id": "_xMOM5UGgwXI"
      },
      "source": [
        "### 5.6 Decoder"
      ]
    },
    {
      "cell_type": "code",
      "execution_count": 46,
      "metadata": {
        "id": "3DZ0S0VmgwXI"
      },
      "outputs": [],
      "source": [
        "class Decoder(nn.Module):\n",
        "    def __init__(self, attention, output_dim, hid_dim, n_layers, n_heads, pf_dim, dropout, device, max_length = 100):\n",
        "        super().__init__()\n",
        "        self.device = device\n",
        "        self.tok_embedding = nn.Embedding(output_dim, hid_dim)\n",
        "        self.pos_embedding = nn.Embedding(max_length, hid_dim)\n",
        "        self.layers = nn.ModuleList([DecoderLayer(attention, hid_dim, n_heads, pf_dim, dropout, device) for _ in range(n_layers)])\n",
        "        self.fc_out = nn.Linear(hid_dim, output_dim)\n",
        "        self.dropout = nn.Dropout(dropout)\n",
        "        self.scale = torch.sqrt(torch.FloatTensor([hid_dim])).to(device)\n",
        "\n",
        "    def forward(self, trg, enc_src, trg_mask, src_mask):\n",
        "        #trg = [batch size, trg len]\n",
        "        #enc_src = [batch size, src len, hid dim]\n",
        "        #trg_mask = [batch size, 1, trg len, trg len]\n",
        "        #src_mask = [batch size, 1, 1, src len]\n",
        "        batch_size = trg.shape[0]\n",
        "        trg_len = trg.shape[1]\n",
        "\n",
        "        pos = torch.arange(0, trg_len).unsqueeze(0).repeat(batch_size, 1).to(self.device)\n",
        "        #pos = [batch size, trg len]\n",
        "\n",
        "        trg = self.dropout(self.tok_embedding(trg) * self.scale + self.pos_embedding(pos))\n",
        "        #trg = [batch size, trg len, hid dim]\n",
        "\n",
        "        for layer in self.layers:\n",
        "            trg, attentions = layer(trg, enc_src, trg_mask, src_mask)\n",
        "            #trg = [batch size, trg len, hid dim]\n",
        "            #attentions = [batch size, n heads, trg len, src len]\n",
        "\n",
        "        output = self.fc_out(trg)\n",
        "        #output = [batch size, trg len, output dim]\n",
        "\n",
        "        return output, attentions"
      ]
    },
    {
      "cell_type": "markdown",
      "metadata": {
        "id": "b-edahUqgwXI"
      },
      "source": [
        "### 5.7 Seq2Seq (putting them together)"
      ]
    },
    {
      "cell_type": "code",
      "execution_count": 47,
      "metadata": {
        "id": "5FjG4qzqgwXI"
      },
      "outputs": [],
      "source": [
        "class Seq2SeqTransformer(nn.Module):\n",
        "    def __init__(self, encoder, decoder, src_pad_idx, trg_pad_idx,device):\n",
        "        super().__init__()\n",
        "        self.device = device\n",
        "        self.encoder = encoder\n",
        "        self.decoder = decoder\n",
        "        self.src_pad_idx = src_pad_idx\n",
        "        self.trg_pad_idx = trg_pad_idx\n",
        "    def make_src_mask(self, src):\n",
        "        #src = [batch size, src len]\n",
        "        src_mask = (src != self.src_pad_idx).unsqueeze(1).unsqueeze(2)\n",
        "        #src_mask = [batch size, 1, 1, src len]\n",
        "        return src_mask\n",
        "    def make_trg_mask(self, trg):\n",
        "        #trg = [batch size, trg len]\n",
        "        trg_pad_mask = (trg != self.trg_pad_idx).unsqueeze(1).unsqueeze(2)\n",
        "        #trg_pad_mask = [batch size, 1, 1, trg len]\n",
        "        trg_len = trg.shape[1]\n",
        "        trg_sub_mask = torch.tril(torch.ones((trg_len, trg_len), device = self.device)).bool()\n",
        "        #trg_sub_mask = [trg len, trg len]\n",
        "        trg_mask = trg_pad_mask & trg_sub_mask\n",
        "        #trg_mask = [batch size, 1, trg len, trg len]\n",
        "        return trg_mask\n",
        "\n",
        "    def forward(self, src, trg):\n",
        "        #src = [batch size, src len]\n",
        "        #trg = [batch size, trg len]\n",
        "        src_mask = self.make_src_mask(src)\n",
        "        trg_mask = self.make_trg_mask(trg)\n",
        "\n",
        "        #src_mask = [batch size, 1, 1, src len]\n",
        "        #trg_mask = [batch size, 1, trg len, trg len]\n",
        "\n",
        "        enc_src = self.encoder(src, src_mask)\n",
        "        #enc_src = [batch size, src len, hid dim]\n",
        "\n",
        "        output, attentions = self.decoder(trg, enc_src, trg_mask, src_mask)\n",
        "\n",
        "        #output = [batch size, trg len, output dim]\n",
        "        #attentions = [batch size, n heads, trg len, src len]\n",
        "\n",
        "        return output, attentions"
      ]
    },
    {
      "cell_type": "markdown",
      "metadata": {
        "id": "6q5bqVUUgwXI"
      },
      "source": [
        "## 6.Training"
      ]
    },
    {
      "cell_type": "code",
      "execution_count": 48,
      "metadata": {
        "id": "7_e2KqgwgwXI"
      },
      "outputs": [],
      "source": [
        "def initialize_weights(m):\n",
        "    if hasattr(m, 'weight') and m.weight.dim() > 1:\n",
        "        nn.init.xavier_uniform_(m.weight.data)"
      ]
    },
    {
      "cell_type": "code",
      "execution_count": 49,
      "metadata": {
        "id": "e_9tlCD1gwXI"
      },
      "outputs": [],
      "source": [
        "def train(model, loader, optimizer, criterion, clip, loader_length):\n",
        "\n",
        "    model.train()\n",
        "\n",
        "    epoch_loss = 0\n",
        "\n",
        "    for src, src_len, trg in loader:\n",
        "\n",
        "        src = src.to(device)\n",
        "        trg = trg.to(device)\n",
        "\n",
        "        optimizer.zero_grad()\n",
        "\n",
        "        #trg[:, :-1] remove the eos, e.g., \"<sos> I love sushi\" since teaching forcing, the input does not need to have eos\n",
        "        output, _ = model(src, trg[:,:-1])\n",
        "\n",
        "        #output = [batch size, trg len - 1, output dim]\n",
        "        #trg    = [batch size, trg len]\n",
        "\n",
        "        output_dim = output.shape[-1]\n",
        "\n",
        "        output = output.reshape(-1, output_dim)\n",
        "        trg = trg[:,1:].reshape(-1) #trg[:, 1:] remove the sos, e.g., \"i love sushi <eos>\" since in teaching forcing, the output does not have sos\n",
        "\n",
        "        #output = [batch size * trg len - 1, output dim]\n",
        "        #trg    = [batch size * trg len - 1]\n",
        "\n",
        "        loss = criterion(output, trg)\n",
        "\n",
        "        loss.backward()\n",
        "\n",
        "        torch.nn.utils.clip_grad_norm_(model.parameters(), clip)\n",
        "\n",
        "        optimizer.step()\n",
        "\n",
        "        epoch_loss += loss.item()\n",
        "\n",
        "    return epoch_loss / loader_length"
      ]
    },
    {
      "cell_type": "code",
      "execution_count": 50,
      "metadata": {
        "id": "f7k9lBiCgwXJ"
      },
      "outputs": [],
      "source": [
        "def evaluate(model, loader, criterion, loader_length):\n",
        "\n",
        "    model.eval()\n",
        "\n",
        "    epoch_loss = 0\n",
        "\n",
        "    with torch.no_grad():\n",
        "\n",
        "        for src, src_len, trg in loader:\n",
        "\n",
        "            src = src.to(device)\n",
        "            trg = trg.to(device)\n",
        "\n",
        "            output, _ = model(src, trg[:,:-1])\n",
        "\n",
        "            #output = [batch size, trg len - 1, output dim]\n",
        "            #trg = [batch size, trg len]\n",
        "\n",
        "            output_dim = output.shape[-1]\n",
        "\n",
        "            output = output.contiguous().view(-1, output_dim)\n",
        "            trg = trg[:,1:].contiguous().view(-1)\n",
        "\n",
        "            #output = [batch size * trg len - 1, output dim]\n",
        "            #trg = [batch size * trg len - 1]\n",
        "\n",
        "            loss = criterion(output, trg)\n",
        "\n",
        "            epoch_loss += loss.item()\n",
        "\n",
        "    return epoch_loss / loader_length"
      ]
    },
    {
      "cell_type": "code",
      "execution_count": 51,
      "metadata": {
        "id": "Q2D_VTFSgwXJ"
      },
      "outputs": [],
      "source": [
        "def epoch_time(start_time, end_time):\n",
        "    elapsed_time = end_time - start_time\n",
        "    elapsed_mins = int(elapsed_time / 60)\n",
        "    elapsed_secs = int(elapsed_time - (elapsed_mins * 60))\n",
        "    return elapsed_mins, elapsed_secs"
      ]
    },
    {
      "cell_type": "code",
      "execution_count": 52,
      "metadata": {
        "id": "1zlCRjoMgwXJ"
      },
      "outputs": [],
      "source": [
        "import torch.optim as optim\n",
        "import time"
      ]
    },
    {
      "cell_type": "code",
      "execution_count": 53,
      "metadata": {
        "colab": {
          "base_uri": "https://localhost:8080/"
        },
        "id": "i7KcdiIlgwXJ",
        "outputId": "8e2bc1c8-dd59-43b2-b1d7-d71a01708cb0"
      },
      "outputs": [
        {
          "data": {
            "text/plain": [
              "Seq2SeqTransformer(\n",
              "  (encoder): Encoder(\n",
              "    (tok_embedding): Embedding(12605, 256)\n",
              "    (pos_embedding): Embedding(100, 256)\n",
              "    (layers): ModuleList(\n",
              "      (0-2): 3 x EncoderLayer(\n",
              "        (self_attn_layer_norm): LayerNorm((256,), eps=1e-05, elementwise_affine=True)\n",
              "        (ff_layer_norm): LayerNorm((256,), eps=1e-05, elementwise_affine=True)\n",
              "        (self_attention): MultiheadAttentionLayer(\n",
              "          (fc_q): Linear(in_features=256, out_features=256, bias=True)\n",
              "          (fc_k): Linear(in_features=256, out_features=256, bias=True)\n",
              "          (fc_v): Linear(in_features=256, out_features=256, bias=True)\n",
              "          (fc_o): Linear(in_features=256, out_features=256, bias=True)\n",
              "          (dropout): Dropout(p=0.1, inplace=False)\n",
              "          (general): General()\n",
              "        )\n",
              "        (feedforward): PositionwiseFeedforwardLayer(\n",
              "          (fc1): Linear(in_features=256, out_features=512, bias=True)\n",
              "          (fc2): Linear(in_features=512, out_features=256, bias=True)\n",
              "          (dropout): Dropout(p=0.1, inplace=False)\n",
              "        )\n",
              "        (dropout): Dropout(p=0.1, inplace=False)\n",
              "      )\n",
              "    )\n",
              "    (dropout): Dropout(p=0.1, inplace=False)\n",
              "  )\n",
              "  (decoder): Decoder(\n",
              "    (tok_embedding): Embedding(12166, 256)\n",
              "    (pos_embedding): Embedding(100, 256)\n",
              "    (layers): ModuleList(\n",
              "      (0-2): 3 x DecoderLayer(\n",
              "        (self_attn_layer_norm): LayerNorm((256,), eps=1e-05, elementwise_affine=True)\n",
              "        (enc_attn_layer_norm): LayerNorm((256,), eps=1e-05, elementwise_affine=True)\n",
              "        (ff_latyer_norm): LayerNorm((256,), eps=1e-05, elementwise_affine=True)\n",
              "        (self_attention): MultiheadAttentionLayer(\n",
              "          (fc_q): Linear(in_features=256, out_features=256, bias=True)\n",
              "          (fc_k): Linear(in_features=256, out_features=256, bias=True)\n",
              "          (fc_v): Linear(in_features=256, out_features=256, bias=True)\n",
              "          (fc_o): Linear(in_features=256, out_features=256, bias=True)\n",
              "          (dropout): Dropout(p=0.1, inplace=False)\n",
              "          (general): General()\n",
              "        )\n",
              "        (encoder_attention): MultiheadAttentionLayer(\n",
              "          (fc_q): Linear(in_features=256, out_features=256, bias=True)\n",
              "          (fc_k): Linear(in_features=256, out_features=256, bias=True)\n",
              "          (fc_v): Linear(in_features=256, out_features=256, bias=True)\n",
              "          (fc_o): Linear(in_features=256, out_features=256, bias=True)\n",
              "          (dropout): Dropout(p=0.1, inplace=False)\n",
              "          (general): General()\n",
              "        )\n",
              "        (feedforward): PositionwiseFeedforwardLayer(\n",
              "          (fc1): Linear(in_features=256, out_features=512, bias=True)\n",
              "          (fc2): Linear(in_features=512, out_features=256, bias=True)\n",
              "          (dropout): Dropout(p=0.1, inplace=False)\n",
              "        )\n",
              "        (dropout): Dropout(p=0.1, inplace=False)\n",
              "      )\n",
              "    )\n",
              "    (fc_out): Linear(in_features=256, out_features=12166, bias=True)\n",
              "    (dropout): Dropout(p=0.1, inplace=False)\n",
              "  )\n",
              ")"
            ]
          },
          "execution_count": 53,
          "metadata": {},
          "output_type": "execute_result"
        }
      ],
      "source": [
        "input_dim   = len(vocab_transform[SRC_LANGUAGE])\n",
        "output_dim  = len(vocab_transform[TRG_LANGUAGE])\n",
        "hid_dim = 256\n",
        "enc_layers = 3\n",
        "dec_layers = 3\n",
        "enc_heads = 8\n",
        "dec_heads = 8\n",
        "enc_pf_dim = 512\n",
        "dec_pf_dim = 512\n",
        "enc_dropout = 0.1\n",
        "dec_dropout = 0.1\n",
        "attention = \"general\"\n",
        "\n",
        "SRC_PAD_IDX = PAD_IDX\n",
        "TRG_PAD_IDX = PAD_IDX\n",
        "\n",
        "enc_test = Encoder(attention,\n",
        "              input_dim,\n",
        "              hid_dim,\n",
        "              enc_layers,\n",
        "              enc_heads,\n",
        "              enc_pf_dim,\n",
        "              enc_dropout,\n",
        "              device)\n",
        "\n",
        "dec_test = Decoder(attention,\n",
        "              output_dim,\n",
        "              hid_dim,\n",
        "              dec_layers,\n",
        "              dec_heads,\n",
        "              dec_pf_dim,\n",
        "              enc_dropout,\n",
        "              device)\n",
        "\n",
        "model_test = Seq2SeqTransformer(enc_test, dec_test, SRC_PAD_IDX, TRG_PAD_IDX, device).to(device)\n",
        "model_test.apply(initialize_weights)"
      ]
    },
    {
      "cell_type": "code",
      "execution_count": 54,
      "metadata": {
        "colab": {
          "base_uri": "https://localhost:8080/"
        },
        "id": "pObECaTAgwXJ",
        "outputId": "cf78ca40-b0e0-4ab8-a71d-3acf7ef7abda"
      },
      "outputs": [
        {
          "name": "stdout",
          "output_type": "stream",
          "text": [
            "Total Parameters: 13472902\n"
          ]
        }
      ],
      "source": [
        "#we can print the complexity by the number of parameters\n",
        "def count_parameters(model):\n",
        "    params = [p.numel() for p in model.parameters() if p.requires_grad]\n",
        "    print(f'Total Parameters: {sum(params):>6}')\n",
        "count_parameters(model_test)"
      ]
    },
    {
      "cell_type": "markdown",
      "metadata": {},
      "source": [
        "#### Training loop for each attention mechanism"
      ]
    },
    {
      "cell_type": "code",
      "execution_count": 55,
      "metadata": {
        "colab": {
          "base_uri": "https://localhost:8080/"
        },
        "id": "EPy2t_kdgwXJ",
        "outputId": "194acce2-6b06-4971-ee66-3fdf2a6d0e4f"
      },
      "outputs": [
        {
          "name": "stdout",
          "output_type": "stream",
          "text": [
            "\n",
            "Attention_Mechanism: general\n",
            "\n",
            "Epoch: 01 | Time: 0m 24s\n",
            "\tTrain Loss: 6.363 | Train PPL: 579.938\n",
            "\t Val. Loss: 5.940 |  Val. PPL: 379.766\n",
            "\n",
            "Epoch: 02 | Time: 0m 23s\n",
            "\tTrain Loss: 5.909 | Train PPL: 368.347\n",
            "\t Val. Loss: 5.806 |  Val. PPL: 332.168\n",
            "\n",
            "Epoch: 03 | Time: 0m 24s\n",
            "\tTrain Loss: 5.764 | Train PPL: 318.681\n",
            "\t Val. Loss: 5.717 |  Val. PPL: 303.994\n",
            "\n",
            "Epoch: 04 | Time: 0m 28s\n",
            "\tTrain Loss: 5.675 | Train PPL: 291.410\n",
            "\t Val. Loss: 5.681 |  Val. PPL: 293.194\n",
            "\n",
            "Epoch: 05 | Time: 0m 24s\n",
            "\tTrain Loss: 5.614 | Train PPL: 274.119\n",
            "\t Val. Loss: 5.663 |  Val. PPL: 287.875\n",
            "\n",
            "Epoch: 06 | Time: 0m 24s\n",
            "\tTrain Loss: 5.563 | Train PPL: 260.627\n",
            "\t Val. Loss: 5.653 |  Val. PPL: 285.037\n",
            "\n",
            "Epoch: 07 | Time: 0m 24s\n",
            "\tTrain Loss: 5.520 | Train PPL: 249.586\n",
            "\t Val. Loss: 5.627 |  Val. PPL: 277.717\n",
            "\n",
            "Epoch: 08 | Time: 0m 23s\n",
            "\tTrain Loss: 5.460 | Train PPL: 235.177\n",
            "\t Val. Loss: 5.603 |  Val. PPL: 271.206\n",
            "\n",
            "Epoch: 09 | Time: 0m 23s\n",
            "\tTrain Loss: 5.412 | Train PPL: 224.055\n",
            "\t Val. Loss: 5.571 |  Val. PPL: 262.802\n",
            "\n",
            "Epoch: 10 | Time: 0m 23s\n",
            "\tTrain Loss: 5.384 | Train PPL: 217.942\n",
            "\t Val. Loss: 5.564 |  Val. PPL: 260.740\n",
            "\n",
            "Attention_Mechanism: multiplicative\n",
            "\n",
            "Epoch: 01 | Time: 0m 24s\n",
            "\tTrain Loss: 6.374 | Train PPL: 586.191\n",
            "\t Val. Loss: 5.961 |  Val. PPL: 387.886\n",
            "\n",
            "Epoch: 02 | Time: 0m 24s\n",
            "\tTrain Loss: 5.931 | Train PPL: 376.410\n",
            "\t Val. Loss: 5.818 |  Val. PPL: 336.303\n",
            "\n",
            "Epoch: 03 | Time: 0m 24s\n",
            "\tTrain Loss: 5.780 | Train PPL: 323.727\n",
            "\t Val. Loss: 5.732 |  Val. PPL: 308.553\n",
            "\n",
            "Epoch: 04 | Time: 0m 24s\n",
            "\tTrain Loss: 5.691 | Train PPL: 296.069\n",
            "\t Val. Loss: 5.664 |  Val. PPL: 288.173\n",
            "\n",
            "Epoch: 05 | Time: 0m 24s\n",
            "\tTrain Loss: 5.609 | Train PPL: 272.851\n",
            "\t Val. Loss: 5.600 |  Val. PPL: 270.417\n",
            "\n",
            "Epoch: 06 | Time: 0m 24s\n",
            "\tTrain Loss: 5.514 | Train PPL: 248.226\n",
            "\t Val. Loss: 5.515 |  Val. PPL: 248.512\n",
            "\n",
            "Epoch: 07 | Time: 0m 24s\n",
            "\tTrain Loss: 5.420 | Train PPL: 225.972\n",
            "\t Val. Loss: 5.421 |  Val. PPL: 226.105\n",
            "\n",
            "Epoch: 08 | Time: 0m 24s\n",
            "\tTrain Loss: 5.312 | Train PPL: 202.824\n",
            "\t Val. Loss: 5.282 |  Val. PPL: 196.844\n",
            "\n",
            "Epoch: 09 | Time: 0m 24s\n",
            "\tTrain Loss: 5.184 | Train PPL: 178.446\n",
            "\t Val. Loss: 5.191 |  Val. PPL: 179.613\n",
            "\n",
            "Epoch: 10 | Time: 0m 24s\n",
            "\tTrain Loss: 5.076 | Train PPL: 160.070\n",
            "\t Val. Loss: 5.078 |  Val. PPL: 160.413\n",
            "\n",
            "Attention_Mechanism: additive\n",
            "\n",
            "Epoch: 01 | Time: 0m 43s\n",
            "\tTrain Loss: 5.564 | Train PPL: 260.802\n",
            "\t Val. Loss: 3.649 |  Val. PPL:  38.455\n",
            "\n",
            "Epoch: 02 | Time: 0m 42s\n",
            "\tTrain Loss: 2.831 | Train PPL:  16.970\n",
            "\t Val. Loss: 2.081 |  Val. PPL:   8.009\n",
            "\n",
            "Epoch: 03 | Time: 0m 42s\n",
            "\tTrain Loss: 1.772 | Train PPL:   5.880\n",
            "\t Val. Loss: 1.597 |  Val. PPL:   4.939\n",
            "\n",
            "Epoch: 04 | Time: 0m 43s\n",
            "\tTrain Loss: 1.314 | Train PPL:   3.720\n",
            "\t Val. Loss: 1.416 |  Val. PPL:   4.119\n",
            "\n",
            "Epoch: 05 | Time: 0m 42s\n",
            "\tTrain Loss: 1.033 | Train PPL:   2.810\n",
            "\t Val. Loss: 1.361 |  Val. PPL:   3.902\n",
            "\n",
            "Epoch: 06 | Time: 0m 42s\n",
            "\tTrain Loss: 0.825 | Train PPL:   2.283\n",
            "\t Val. Loss: 1.352 |  Val. PPL:   3.864\n",
            "\n",
            "Epoch: 07 | Time: 0m 43s\n",
            "\tTrain Loss: 0.646 | Train PPL:   1.907\n",
            "\t Val. Loss: 1.336 |  Val. PPL:   3.803\n",
            "\n",
            "Epoch: 08 | Time: 0m 43s\n",
            "\tTrain Loss: 0.488 | Train PPL:   1.629\n",
            "\t Val. Loss: 1.310 |  Val. PPL:   3.705\n",
            "\n",
            "Epoch: 09 | Time: 0m 43s\n",
            "\tTrain Loss: 0.365 | Train PPL:   1.441\n",
            "\t Val. Loss: 1.321 |  Val. PPL:   3.748\n",
            "\n",
            "Epoch: 10 | Time: 0m 42s\n",
            "\tTrain Loss: 0.277 | Train PPL:   1.319\n",
            "\t Val. Loss: 1.374 |  Val. PPL:   3.950\n"
          ]
        }
      ],
      "source": [
        "model_losses ={}\n",
        "for attention in [\"general\", \"multiplicative\", \"additive\" ]:\n",
        "    print(f\"\\nAttention_Mechanism: {attention}\")\n",
        "    # Load the train, validation and test data for each attention mechanism\n",
        "    train_loader = DataLoader(trains, batch_size=batch_size, shuffle=True, collate_fn=collate_batch)\n",
        "    valid_loader = DataLoader(valid, batch_size=batch_size, shuffle=False, collate_fn=collate_batch)\n",
        "    test_loader = DataLoader(test, batch_size=batch_size, shuffle=False, collate_fn=collate_batch)\n",
        "    #get the length of the loaders\n",
        "    train_loader_length = len(list(iter(train_loader)))\n",
        "    val_loader_length   = len(list(iter(valid_loader)))\n",
        "    test_loader_length  = len(list(iter(test_loader)))\n",
        "\n",
        "    #----------------------------------------------------------------------------------------------------\n",
        "    # Encoder and Decoder for each attention mechanism\n",
        "    enc = Encoder(attention,\n",
        "                input_dim,\n",
        "                hid_dim,\n",
        "                enc_layers,\n",
        "                enc_heads,\n",
        "                enc_pf_dim,\n",
        "                enc_dropout,\n",
        "                device)\n",
        "\n",
        "    dec = Decoder(attention,\n",
        "                output_dim,\n",
        "                hid_dim,\n",
        "                dec_layers,\n",
        "                dec_heads,\n",
        "                dec_pf_dim,\n",
        "                enc_dropout,\n",
        "                device)\n",
        "    # Model for each attention mechanism\n",
        "    model = Seq2SeqTransformer(enc, dec, SRC_PAD_IDX, TRG_PAD_IDX, device).to(device)\n",
        "    model.apply(initialize_weights)\n",
        "    #----------------------------------------------------------------------------------------------------\n",
        "    lr = 0.0005\n",
        "    optimizer = optim.Adam(model.parameters(), lr=lr)\n",
        "    criterion = nn.CrossEntropyLoss(ignore_index = TRG_PAD_IDX) #combine softmax with cross entropy loss\n",
        "    #----------------------------------------------------------------------------------------------------\n",
        "\n",
        "    best_valid_loss = float('inf')\n",
        "    num_epochs = 10\n",
        "    clip       = 1\n",
        "\n",
        "    save_path = f'/content/models/{model.__class__.__name__}_{attention}.pt'\n",
        "\n",
        "    train_losses = []\n",
        "    valid_losses = []\n",
        "\n",
        "    for epoch in range(num_epochs):\n",
        "\n",
        "        start_time = time.time()\n",
        "\n",
        "        train_loss = train(model, train_loader, optimizer, criterion, clip, train_loader_length)\n",
        "        valid_loss = evaluate(model, valid_loader, criterion, val_loader_length)\n",
        "\n",
        "        #for plotting\n",
        "        train_losses.append(train_loss)\n",
        "        valid_losses.append(valid_loss)\n",
        "\n",
        "        end_time = time.time()\n",
        "\n",
        "        epoch_mins, epoch_secs = epoch_time(start_time, end_time)\n",
        "\n",
        "\n",
        "        if valid_loss < best_valid_loss:\n",
        "            best_valid_loss = valid_loss\n",
        "            torch.save(model.state_dict(), save_path)\n",
        "\n",
        "        print(f'\\nEpoch: {epoch+1:02} | Time: {epoch_mins}m {epoch_secs}s')\n",
        "        print(f'\\tTrain Loss: {train_loss:.3f} | Train PPL: {math.exp(train_loss):7.3f}')\n",
        "        print(f'\\t Val. Loss: {valid_loss:.3f} |  Val. PPL: {math.exp(valid_loss):7.3f}')\n",
        "\n",
        "        #lower perplexity is better\n",
        "\n",
        "    # Store the losses for each attention mechanism\n",
        "    model_losses[attention] = { \"train_loss\": train_losses, \"valid_loss\": valid_losses, \"train_ppl\": [math.exp(x) for x in train_losses] , \"valid_ppl\":[math.exp(x) for x in valid_losses]}\n"
      ]
    },
    {
      "cell_type": "code",
      "execution_count": null,
      "metadata": {
        "colab": {
          "base_uri": "https://localhost:8080/"
        },
        "id": "olvNApfwFuus",
        "outputId": "c1407285-a3e9-4d2c-e62c-5ebbe5eb551d"
      },
      "outputs": [],
      "source": [
        "#model_losses"
      ]
    },
    {
      "cell_type": "markdown",
      "metadata": {
        "id": "YMnAwxvcZ16g"
      },
      "source": [
        "## 7. Testing"
      ]
    },
    {
      "cell_type": "code",
      "execution_count": 57,
      "metadata": {
        "colab": {
          "base_uri": "https://localhost:8080/",
          "height": 36
        },
        "id": "JHHz_IylfXWd",
        "outputId": "587f09e3-4a67-4511-da57-f222f9fcd594"
      },
      "outputs": [
        {
          "data": {
            "application/vnd.google.colaboratory.intrinsic+json": {
              "type": "string"
            },
            "text/plain": [
              "'/content/models/Seq2SeqTransformer_additive.pt'"
            ]
          },
          "execution_count": 57,
          "metadata": {},
          "output_type": "execute_result"
        }
      ],
      "source": [
        "# Check the save path\n",
        "save_path"
      ]
    },
    {
      "cell_type": "code",
      "execution_count": 59,
      "metadata": {
        "colab": {
          "base_uri": "https://localhost:8080/"
        },
        "id": "HmHYeueicAvb",
        "outputId": "737f2421-27b2-4a77-8dee-4f288d1fe058"
      },
      "outputs": [
        {
          "name": "stdout",
          "output_type": "stream",
          "text": [
            "Attention Technique: general\n",
            "| Test Loss: 5.542 | Test PPL: 255.283 |\n",
            "Attention Technique: multiplicative\n",
            "| Test Loss: 5.053 | Test PPL: 156.542 |\n",
            "Attention Technique: additive\n",
            "| Test Loss: 1.291 | Test PPL: 3.636 |\n",
            "Test Losses: {'general': 5.542371988296509, 'multiplicative': 5.053326070308685, 'additive': 1.290903516113758}\n"
          ]
        }
      ],
      "source": [
        "# Dictionary to store test losses for each attention mechanism\n",
        "test_losses = {}\n",
        "\n",
        "######################Wrong Load the diff model\n",
        "# Evaluate each attention mechanism\n",
        "for technique in [\"general\", \"multiplicative\", \"additive\" ]:\n",
        "    save_path = f'/content/models/Seq2SeqTransformer_{technique}.pt'\n",
        "  # Load the model state\n",
        "    try:\n",
        "      encoder_test = Encoder(technique,\n",
        "                                input_dim,\n",
        "                                hid_dim,\n",
        "                                enc_layers,\n",
        "                                enc_heads,\n",
        "                                enc_pf_dim,\n",
        "                                enc_dropout,\n",
        "                                device)\n",
        "      decoder_test = Decoder(technique,\n",
        "                                  output_dim,\n",
        "                                  hid_dim,\n",
        "                                  dec_layers,\n",
        "                                  dec_heads,\n",
        "                                  dec_pf_dim,\n",
        "                                  enc_dropout,\n",
        "                                  device)\n",
        "      model_test = Seq2SeqTransformer(encoder_test, decoder_test, SRC_PAD_IDX, TRG_PAD_IDX, device).to(device)\n",
        "      model_test.load_state_dict(torch.load(save_path))\n",
        "    except ValueError:\n",
        "      print(f\"Can not load the model in the {technique} technique.\")\n",
        "\n",
        "    test_loader_eval = DataLoader(test, batch_size=batch_size, shuffle=False, collate_fn=collate_batch)\n",
        "    test_loader_length_eval = len(list(iter(test_loader_eval)))\n",
        "    # Evaluate the model\n",
        "    test_loss = evaluate(model_test, test_loader_eval, criterion, test_loader_length_eval)\n",
        "    test_losses[technique] = test_loss\n",
        "\n",
        "    # Calculate perplexity\n",
        "    test_ppl = math.exp(test_loss)\n",
        "\n",
        "    # Display results\n",
        "    print(f'Attention Technique: {technique}')\n",
        "    print(f'| Test Loss: {test_loss:.3f} | Test PPL: {test_ppl:.3f} |')\n",
        "\n",
        "# If you want to store the test losses for further analysis or comparison\n",
        "print(\"Test Losses:\", test_losses)\n"
      ]
    },
    {
      "cell_type": "code",
      "execution_count": 60,
      "metadata": {
        "colab": {
          "base_uri": "https://localhost:8080/"
        },
        "id": "szVnSBl7flLV",
        "outputId": "90235cb5-3ad8-4a39-9bcf-eb97816837f4"
      },
      "outputs": [
        {
          "name": "stdout",
          "output_type": "stream",
          "text": [
            "The best attention mechanism is \"additive\" with a test loss of 1.291.\n"
          ]
        }
      ],
      "source": [
        "# Find the best attention mechanism\n",
        "best_technique = min(test_losses, key=test_losses.get)\n",
        "best_test_loss = test_losses[best_technique]\n",
        "\n",
        "print(f'The best attention mechanism is \"{best_technique}\" with a test loss of {best_test_loss:.3f}.')\n"
      ]
    },
    {
      "cell_type": "markdown",
      "metadata": {
        "id": "I89adFSQZ4Oe"
      },
      "source": [
        "## 8. Evaluation"
      ]
    },
    {
      "cell_type": "code",
      "execution_count": null,
      "metadata": {
        "colab": {
          "base_uri": "https://localhost:8080/"
        },
        "id": "Kg4d23MjFv_s",
        "outputId": "f5440474-0a3d-466a-854d-11d5fd07c9e1"
      },
      "outputs": [],
      "source": [
        "# # To Reconstruct Markdown table string\n",
        "# markdown_table = \"|Attentions | Train Loss | Train PPL | Validation Loss | Validation PPL| \\n\"\n",
        "# markdown_table += \"|-------- | ---------- | ----------- | ---------| ----------|\\n\"\n",
        "\n",
        "# for technique in ['general', 'multiplicative', 'additive']:\n",
        "#     train_losses = model_losses[technique]['train_loss']\n",
        "#     valid_losses = model_losses[technique]['valid_loss']\n",
        "#     train_ppl = model_losses[technique]['train_ppl']\n",
        "#     valid_ppl = model_losses[technique]['valid_ppl']\n",
        "#     markdown_table += f\"| {technique.capitalize()} | {train_losses[-1]:.3f} | {train_ppl[-1]:.3f} | {valid_losses[-1]:.3f} | {valid_ppl[-1]:.3f} | \\n\"\n",
        "\n",
        "# # Print Markdown table\n",
        "# print(markdown_table)"
      ]
    },
    {
      "cell_type": "markdown",
      "metadata": {
        "id": "NKnWxxFedd8y"
      },
      "source": [
        "|Attentions | Train Loss | Train PPL | Validation Loss | Validation PPL|\n",
        "|-------- | ---------- | ----------- | ---------| ----------|\n",
        "| General | 5.384 | 217.942 | 5.564 | 260.740 |\n",
        "| Multiplicative | 5.076 | 160.070 | 5.078 | 160.413 |\n",
        "| Additive | 0.277 | 1.319 | 1.374 | 3.950 |\n"
      ]
    },
    {
      "cell_type": "code",
      "execution_count": 64,
      "metadata": {
        "colab": {
          "base_uri": "https://localhost:8080/",
          "height": 807
        },
        "id": "KQDzxzMlbfhp",
        "outputId": "f9df644f-e025-4ed2-97d7-0183e4fa4c23"
      },
      "outputs": [
        {
          "data": {
            "image/png": "[encoded data removed]",
            "text/plain": [
              "<Figure size 500x800 with 3 Axes>"
            ]
          },
          "metadata": {},
          "output_type": "display_data"
        }
      ],
      "source": [
        "# Plotting\n",
        "import matplotlib.pyplot as plt\n",
        "fig, axs = plt.subplots(3, 1, figsize=(5, 8))\n",
        "\n",
        "for i, technique in enumerate(model_losses):\n",
        "    ax = axs[i]\n",
        "    ax.plot(model_losses[technique]['train_loss'], label='train loss')\n",
        "    ax.plot(model_losses[technique]['valid_loss'], label='valid loss')\n",
        "    ax.legend()\n",
        "    ax.set_xlabel('updates')\n",
        "    ax.set_ylabel('loss')\n",
        "    ax.set_title(f'Attention Technique: {technique}')\n",
        "\n",
        "plt.tight_layout()\n",
        "plt.show()"
      ]
    },
    {
      "cell_type": "markdown",
      "metadata": {
        "id": "yIQ77knPoXpp"
      },
      "source": [
        "##### Inference"
      ]
    },
    {
      "cell_type": "code",
      "execution_count": 89,
      "metadata": {
        "colab": {
          "base_uri": "https://localhost:8080/"
        },
        "id": "T-uwGYT8oXUc",
        "outputId": "620a2a54-d3de-4c8b-f001-2b89c349048e"
      },
      "outputs": [
        {
          "data": {
            "text/plain": [
              "{'en': 'Foodnavigator-asia.com says the rice is specifically engineered for cultivation in countries such as Indonesia, the Philippines and Bangladesh to reduce vitamin A deficiencies.',\n",
              " 'th': 'Foodnavigator-asia.com ระบุว่า ข้าวพันธุ์นี้ได้รับการออกแบบมาสําหรับการเพาะปลูกในประเทศต่าง ๆ อย่างอินโดนีเซีย ฟิลิปปินส์ และบังกลาเทศโดยเฉพาะ เพื่อลดภาวะการขาดวิตามินเอ'}"
            ]
          },
          "execution_count": 89,
          "metadata": {},
          "output_type": "execute_result"
        }
      ],
      "source": [
        "# Select the sample from the train set\n",
        "trains[0]"
      ]
    },
    {
      "cell_type": "code",
      "execution_count": 90,
      "metadata": {
        "id": "iuidocdgkpDx"
      },
      "outputs": [],
      "source": [
        "# make it to be a sample\n",
        "sample = trains[0].copy()"
      ]
    },
    {
      "cell_type": "code",
      "execution_count": 91,
      "metadata": {
        "colab": {
          "base_uri": "https://localhost:8080/",
          "height": 53
        },
        "id": "yTY9YvN9dVPi",
        "outputId": "3c30b22c-1b9d-4689-9343-7a944a0c90d3"
      },
      "outputs": [
        {
          "data": {
            "application/vnd.google.colaboratory.intrinsic+json": {
              "type": "string"
            },
            "text/plain": [
              "'Foodnavigator-asia.com says the rice is specifically engineered for cultivation in countries such as Indonesia, the Philippines and Bangladesh to reduce vitamin A deficiencies.'"
            ]
          },
          "execution_count": 91,
          "metadata": {},
          "output_type": "execute_result"
        }
      ],
      "source": [
        "sample['en']"
      ]
    },
    {
      "cell_type": "code",
      "execution_count": 92,
      "metadata": {
        "colab": {
          "base_uri": "https://localhost:8080/",
          "height": 36
        },
        "id": "dG0CKAH0ovbS",
        "outputId": "b68c93e8-023b-46c8-e1b3-c2ea6d1593e0"
      },
      "outputs": [
        {
          "data": {
            "application/vnd.google.colaboratory.intrinsic+json": {
              "type": "string"
            },
            "text/plain": [
              "'Foodnavigator-asia.com ระบุว่า ข้าวพันธุ์นี้ได้รับการออกแบบมาสําหรับการเพาะปลูกในประเทศต่าง ๆ อย่างอินโดนีเซีย ฟิลิปปินส์ และบังกลาเทศโดยเฉพาะ เพื่อลดภาวะการขาดวิตามินเอ'"
            ]
          },
          "execution_count": 92,
          "metadata": {},
          "output_type": "execute_result"
        }
      ],
      "source": [
        "sample['th']"
      ]
    },
    {
      "cell_type": "code",
      "execution_count": 93,
      "metadata": {
        "colab": {
          "base_uri": "https://localhost:8080/"
        },
        "id": "A25p-ypso0Pl",
        "outputId": "c3f7264f-60ae-4d78-c4bc-388b093f8fea"
      },
      "outputs": [
        {
          "data": {
            "text/plain": [
              "tensor([   2,    0,    4,  984,  973,    5,  732,   18, 2178, 3024,   14, 6334,\n",
              "          11,  573,  214,   30, 2589,    6,    5, 1847,    7, 7426,    8,  892,\n",
              "        1325,   10,    0,    4,    3], device='cuda:0')"
            ]
          },
          "execution_count": 93,
          "metadata": {},
          "output_type": "execute_result"
        }
      ],
      "source": [
        "# Convert the source language text to tensors\n",
        "src_text = text_transform[SRC_LANGUAGE](sample[SRC_LANGUAGE]).to(device)\n",
        "src_text"
      ]
    },
    {
      "cell_type": "code",
      "execution_count": 94,
      "metadata": {
        "colab": {
          "base_uri": "https://localhost:8080/"
        },
        "id": "lcdUEQ_qo8Ho",
        "outputId": "bb97f1aa-036e-4d84-96e0-12b8022f2373"
      },
      "outputs": [
        {
          "data": {
            "text/plain": [
              "tensor([   2,    0,   66, 1419,    4,  741,   32,    4, 1592, 4087,   26,   93,\n",
              "           9,  190, 3204,   45,   29,    9, 4534,  540,  487,    4,   35, 2086,\n",
              "           4, 1382,    4,    7, 8252,  563,    4,   55,  312, 1750,    9, 1041,\n",
              "        1354,  633,    3], device='cuda:0')"
            ]
          },
          "execution_count": 94,
          "metadata": {},
          "output_type": "execute_result"
        }
      ],
      "source": [
        "# Convert the target language text to tensors\n",
        "trg_text = text_transform[TRG_LANGUAGE](sample[TRG_LANGUAGE]).to(device)\n",
        "trg_text"
      ]
    },
    {
      "cell_type": "code",
      "execution_count": 95,
      "metadata": {
        "colab": {
          "base_uri": "https://localhost:8080/"
        },
        "id": "NvSUgazto-aS",
        "outputId": "a9b779bb-538f-4694-ec71-38a4a58b0a44"
      },
      "outputs": [
        {
          "data": {
            "text/plain": [
              "(torch.Size([1, 29]), torch.Size([1, 39]))"
            ]
          },
          "execution_count": 95,
          "metadata": {},
          "output_type": "execute_result"
        }
      ],
      "source": [
        "# Add a batch dimension to the source and target text\n",
        "src_text = src_text.reshape(1, -1)  #because batch_size is 1\n",
        "trg_text = trg_text.reshape(1, -1)\n",
        "src_text.shape, trg_text.shape"
      ]
    },
    {
      "cell_type": "code",
      "execution_count": 96,
      "metadata": {
        "id": "u-Ii2XhDpHPe"
      },
      "outputs": [],
      "source": [
        "# get the text length\n",
        "text_length = torch.tensor([src_text.size(0)]).to(dtype=torch.int64)"
      ]
    },
    {
      "cell_type": "code",
      "execution_count": 97,
      "metadata": {
        "id": "VwITS0MspyQk"
      },
      "outputs": [],
      "source": [
        "#Save vocab_transform and token_transform\n",
        "import pickle\n",
        "with open('vocab_transform.pkl', 'wb') as f:\n",
        "    pickle.dump(vocab_transform, f)\n",
        "with open('token_transform.pkl', 'wb') as f:\n",
        "    pickle.dump(token_transform, f)"
      ]
    },
    {
      "cell_type": "code",
      "execution_count": 98,
      "metadata": {
        "id": "cK8bgQakti4l"
      },
      "outputs": [],
      "source": [
        "#Load vocab_transform and token_transform\n",
        "with open('vocab_transform.pkl', 'rb') as f:\n",
        "  vocab_transform_atten_test = pickle.load(f)\n",
        "with open('token_transform.pkl', 'rb') as f:\n",
        "  token_transform_atten_test = pickle.load(f)"
      ]
    },
    {
      "cell_type": "code",
      "execution_count": 99,
      "metadata": {
        "id": "vJJbSluts3E5"
      },
      "outputs": [],
      "source": [
        "# Define the hyperparameters for the model\n",
        "input_dim_atten_test   = len(vocab_transform_atten_test[SRC_LANGUAGE])\n",
        "output_dim_atten_test  = len(vocab_transform_atten_test[TRG_LANGUAGE])\n",
        "hid_dim_atten_test = 256\n",
        "enc_layers_atten_test = 3\n",
        "dec_layers_atten_test = 3\n",
        "enc_heads_atten_test = 8\n",
        "dec_heads_atten_test = 8\n",
        "enc_pf_dim_atten_test = 512\n",
        "dec_pf_dim_atten_test = 512\n",
        "enc_dropout_atten_test = 0.1\n",
        "dec_dropout_atten_test = 0.1\n",
        "src_pad_idx_atten_test= PAD_IDX\n",
        "trg_pad_idx_atten_test = PAD_IDX"
      ]
    },
    {
      "cell_type": "code",
      "execution_count": 104,
      "metadata": {
        "id": "w06OXV5opSq-"
      },
      "outputs": [],
      "source": [
        "# Perform inference on new data\n",
        "inference_storage={}\n",
        "for technique in [\"general\", \"additive\", \"multiplicative\"]:\n",
        "  save_path_atten_test = f'/content/models/Seq2SeqTransformer_{technique}.pt'\n",
        "  # Load the model state\n",
        "  try:\n",
        "    encoder_atten_test = Encoder(technique,\n",
        "                                input_dim,\n",
        "                                hid_dim,\n",
        "                                enc_layers,\n",
        "                                enc_heads,\n",
        "                                enc_pf_dim,\n",
        "                                enc_dropout,\n",
        "                                device)\n",
        "    decoder_atten_test = Decoder(technique,\n",
        "                                  output_dim,\n",
        "                                  hid_dim,\n",
        "                                  dec_layers,\n",
        "                                  dec_heads,\n",
        "                                  dec_pf_dim,\n",
        "                                  enc_dropout,\n",
        "                                  device)\n",
        "    model_atten_test = Seq2SeqTransformer(encoder_atten_test,decoder_atten_test,src_pad_idx_atten_test,trg_pad_idx_atten_test, device).to(device)\n",
        "    model_atten_test.load_state_dict(torch.load(save_path_atten_test))\n",
        "  except ValueError:\n",
        "    print(f\"Can not load the model in the additive technique.\")\n",
        "\n",
        "  # Set model to evaluation mode\n",
        "  model_atten_test.eval()\n",
        "\n",
        "  with torch.no_grad():\n",
        "    output_atten_test, attentions_atten_test = model_atten_test(src_text, trg_text) #turn off teacher forcing\n",
        "    inference_storage[technique] = {'output':output_atten_test, 'attentions': attentions_atten_test}\n",
        "\n"
      ]
    },
    {
      "cell_type": "code",
      "execution_count": 105,
      "metadata": {
        "colab": {
          "base_uri": "https://localhost:8080/"
        },
        "id": "vspawyE0uopb",
        "outputId": "bb98f550-67f0-4747-c6b5-76d5b0006cc8"
      },
      "outputs": [
        {
          "data": {
            "text/plain": [
              "3"
            ]
          },
          "execution_count": 105,
          "metadata": {},
          "output_type": "execute_result"
        }
      ],
      "source": [
        "# Check the shape of stored output and attentions for each attention mechanism\n",
        "len(inference_storage)"
      ]
    },
    {
      "cell_type": "code",
      "execution_count": 106,
      "metadata": {
        "id": "I8Pp5JRTyBuk"
      },
      "outputs": [],
      "source": [
        "# Get the output of additive attention mechanism\n",
        "output_additive,_ = inference_storage[\"additive\"].items()"
      ]
    },
    {
      "cell_type": "code",
      "execution_count": 107,
      "metadata": {
        "colab": {
          "base_uri": "https://localhost:8080/"
        },
        "id": "CIPEkmfiup-k",
        "outputId": "f441df6b-4afa-4b9a-a5fb-a925546b0d52"
      },
      "outputs": [
        {
          "name": "stdout",
          "output_type": "stream",
          "text": [
            ".\n",
            " \n",
            " \n",
            "ว่า\n",
            " \n",
            "ข้าว\n",
            "มาตร\n",
            "ข้าว\n",
            "เพื่อ\n",
            "มาส\n",
            "การ\n",
            "ส่งเสริม\n",
            "การ\n",
            "ํา\n",
            "รุ\n",
            "ไฟฟ้า\n",
            "เพาะปลูก\n",
            "ในประเทศ\n",
            "ฟิลิปปินส์\n",
            " \n",
            "และ\n",
            "ต่อเนื่อง\n",
            " \n",
            " \n",
            " \n",
            "โดย\n",
            "อัตราดอกเบี้ย\n",
            "เข้ากับ\n",
            ":\n",
            "ซึ่ง\n",
            "การ\n",
            "การ\n",
            "การ\n",
            "พิมพ์\n",
            "ครั้งแรก\n",
            "\"\n",
            "ล\n",
            "เกรด\n"
          ]
        }
      ],
      "source": [
        "output_additive = output_additive[1].squeeze(0)\n",
        "output_additive = output_additive[1:]\n",
        "\n",
        "output_max = output_additive.argmax(1) #returns max indices\n",
        "output_max\n",
        "\n",
        "mapping = vocab_transform_atten_test[TRG_LANGUAGE].get_itos()\n",
        "\n",
        "for token in output_max:\n",
        "    print(mapping[token.item()])"
      ]
    },
    {
      "cell_type": "markdown",
      "metadata": {
        "id": "VeWN9gB4vPMa"
      },
      "source": [
        "#### Attention"
      ]
    },
    {
      "cell_type": "code",
      "execution_count": 108,
      "metadata": {
        "id": "yxrq9svovK9m"
      },
      "outputs": [],
      "source": [
        "# Store the source and target tokens and attentions for each attention mechanism (later use for visualization)\n",
        "for i,k in inference_storage.items():\n",
        "  attentions_infer= k['attentions']\n",
        "  attentions_infer = attentions_infer[0, 0, :, :]\n",
        "  src_tokens = ['<sos>'] + token_transform_atten_test[SRC_LANGUAGE](sample[SRC_LANGUAGE]) + ['<eos>']\n",
        "  trg_tokens = ['<sos>'] + [mapping[token.item()] for token in output_max]\n",
        "  inference_storage[i]['src_tokens'] = src_tokens\n",
        "  inference_storage[i]['trg_tokens'] = trg_tokens\n",
        "  inference_storage[i]['attentions_table'] = attentions_infer"
      ]
    },
    {
      "cell_type": "code",
      "execution_count": 109,
      "metadata": {
        "colab": {
          "base_uri": "https://localhost:8080/"
        },
        "id": "d71_nrvDvR4t",
        "outputId": "ac4a2d3e-9f31-4b5d-ee33-fd2f678d5c36"
      },
      "outputs": [
        {
          "data": {
            "text/plain": [
              "dict_keys(['output', 'attentions', 'src_tokens', 'trg_tokens', 'attentions_table'])"
            ]
          },
          "execution_count": 109,
          "metadata": {},
          "output_type": "execute_result"
        }
      ],
      "source": [
        "inference_storage['general'].keys()"
      ]
    },
    {
      "cell_type": "code",
      "execution_count": 110,
      "metadata": {
        "colab": {
          "base_uri": "https://localhost:8080/"
        },
        "id": "Vv4arsEa2ZTE",
        "outputId": "3def5606-94d4-4dbd-d4e8-f7730c2195cf"
      },
      "outputs": [
        {
          "name": "stdout",
          "output_type": "stream",
          "text": [
            "--2024-02-08 11:50:24--  https://github.com/google/fonts/raw/main/ofl/sarabun/Sarabun-Regular.ttf\n",
            "Resolving github.com (github.com)... 20.205.243.166\n",
            "Connecting to github.com (github.com)|20.205.243.166|:443... connected.\n",
            "HTTP request sent, awaiting response... 302 Found\n",
            "Location: https://raw.githubusercontent.com/google/fonts/main/ofl/sarabun/Sarabun-Regular.ttf [following]\n",
            "--2024-02-08 11:50:25--  https://raw.githubusercontent.com/google/fonts/main/ofl/sarabun/Sarabun-Regular.ttf\n",
            "Resolving raw.githubusercontent.com (raw.githubusercontent.com)... 185.199.108.133, 185.199.109.133, 185.199.110.133, ...\n",
            "Connecting to raw.githubusercontent.com (raw.githubusercontent.com)|185.199.108.133|:443... connected.\n",
            "HTTP request sent, awaiting response... 200 OK\n",
            "Length: 90220 (88K) [application/octet-stream]\n",
            "Saving to: ‘Sarabun-Regular.ttf’\n",
            "\n",
            "Sarabun-Regular.ttf 100%[===================>]  88.11K  --.-KB/s    in 0.001s  \n",
            "\n",
            "2024-02-08 11:50:25 (57.9 MB/s) - ‘Sarabun-Regular.ttf’ saved [90220/90220]\n",
            "\n"
          ]
        }
      ],
      "source": [
        "# Download Thai Font\n",
        "!wget https://github.com/google/fonts/raw/main/ofl/sarabun/Sarabun-Regular.ttf -O Sarabun-Regular.ttf"
      ]
    },
    {
      "cell_type": "code",
      "execution_count": 111,
      "metadata": {
        "id": "iukmfFo5v_Ta"
      },
      "outputs": [],
      "source": [
        "# Create a function to display the attention\n",
        "import matplotlib.ticker as ticker\n",
        "import matplotlib\n",
        "def display_attention(sentence, translation, attention):\n",
        "    # Set the font family to a font that supports Thai characters\n",
        "    matplotlib.font_manager.fontManager.addfont('Sarabun-Regular.ttf')\n",
        "    matplotlib.rc('font', family='Sarabun')\n",
        "\n",
        "    fig = plt.figure(figsize=(10,10))\n",
        "    ax = fig.add_subplot(111)\n",
        "\n",
        "    attention = attention.squeeze(1).cpu().detach().numpy()\n",
        "\n",
        "    cax = ax.matshow(attention, cmap='bone')\n",
        "\n",
        "    ax.tick_params(labelsize=10)\n",
        "\n",
        "    y_ticks =  [''] + translation\n",
        "    x_ticks =  [''] + sentence\n",
        "\n",
        "    ax.set_xticklabels(x_ticks, rotation=45)\n",
        "    ax.set_yticklabels(y_ticks)\n",
        "\n",
        "    ax.xaxis.set_major_locator(ticker.MultipleLocator(1))\n",
        "    ax.yaxis.set_major_locator(ticker.MultipleLocator(1))\n",
        "\n",
        "\n",
        "    plt.show()\n",
        "    plt.close()"
      ]
    },
    {
      "cell_type": "code",
      "execution_count": 113,
      "metadata": {
        "colab": {
          "base_uri": "https://localhost:8080/"
        },
        "id": "cTIvhmnd5Q9N",
        "outputId": "4ffbe38e-dd56-417d-c9f3-590abaaf3608"
      },
      "outputs": [
        {
          "name": "stdout",
          "output_type": "stream",
          "text": [
            "general torch.Size([39, 29])\n",
            "additive torch.Size([39, 29])\n",
            "multiplicative torch.Size([39, 29])\n"
          ]
        }
      ],
      "source": [
        "# Check the shape of the attentions table for each attention mechanism\n",
        "for i,k in inference_storage.items():\n",
        "    print( i,k['attentions_table'].shape)"
      ]
    },
    {
      "cell_type": "code",
      "execution_count": 114,
      "metadata": {
        "colab": {
          "base_uri": "https://localhost:8080/",
          "height": 1000
        },
        "id": "P2xWTntewB-o",
        "outputId": "283d7ede-fa88-4bad-9821-712f6fbcd7c2"
      },
      "outputs": [
        {
          "name": "stderr",
          "output_type": "stream",
          "text": [
            "<ipython-input-111-259cd7424633>:20: UserWarning: FixedFormatter should only be used together with FixedLocator\n",
            "  ax.set_xticklabels(x_ticks, rotation=45)\n",
            "<ipython-input-111-259cd7424633>:21: UserWarning: FixedFormatter should only be used together with FixedLocator\n",
            "  ax.set_yticklabels(y_ticks)\n"
          ]
        },
        {
          "data": {
            "image/png": "[encoded data removed]",
            "text/plain": [
              "<Figure size 1000x1000 with 1 Axes>"
            ]
          },
          "metadata": {},
          "output_type": "display_data"
        },
        {
          "data": {
            "image/png": "[encoded data removed]",
            "text/plain": [
              "<Figure size 1000x1000 with 1 Axes>"
            ]
          },
          "metadata": {},
          "output_type": "display_data"
        },
        {
          "data": {
            "image/png": "[encoded data removed]",
            "text/plain": [
              "<Figure size 1000x1000 with 1 Axes>"
            ]
          },
          "metadata": {},
          "output_type": "display_data"
        }
      ],
      "source": [
        "# Display the attention weights for the all attention mechanism in heatmap\n",
        "for i,k in inference_storage.items():\n",
        "  display_attention(k['src_tokens'], k['trg_tokens'], k['attentions_table'])"
      ]
    },
    {
      "cell_type": "markdown",
      "metadata": {},
      "source": [
        "##### Upper are the heatmaps corresponding to three attention techniques, named downward respectively: 1. General attention, 2. Additive, and 3. Multiplicative."
      ]
    },
    {
      "cell_type": "markdown",
      "metadata": {
        "id": "UbJzwC6I17-L"
      },
      "source": [
        "Based on the assessment of three attention mechanisms, the additive mechanism stands out with the highest score, making it the preferred choice for English to Thai translation. Upon examining the attention heatmaps, it becomes apparent that the additive mechanism displays a more widespread attention distribution compared to the others. While the others exhibit active involvement with certain words such as 'the', 'and', 'for', and 'to', the additive mechanism's broader focus suggests a deeper understanding of intricate word relationships, making it more adept at understanding subtle linguistic nuances. "
      ]
    }
  ],
  "metadata": {
    "accelerator": "GPU",
    "colab": {
      "collapsed_sections": [
        "mRFjpsvVgwXE"
      ],
      "gpuType": "T4",
      "provenance": []
    },
    "kernelspec": {
      "display_name": "Python 3",
      "name": "python3"
    },
    "language_info": {
      "codemirror_mode": {
        "name": "ipython",
        "version": 3
      },
      "file_extension": ".py",
      "mimetype": "text/x-python",
      "name": "python",
      "nbconvert_exporter": "python",
      "pygments_lexer": "ipython3",
      "version": "3.10.10"
    }
  },
  "nbformat": 4,
  "nbformat_minor": 0
}
